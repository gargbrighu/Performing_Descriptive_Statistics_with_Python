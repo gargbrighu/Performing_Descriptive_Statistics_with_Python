{
 "cells": [
  {
   "cell_type": "markdown",
   "id": "cd094cbc",
   "metadata": {},
   "source": [
    "# Ques 1) A statistics test was conducted for 10 learners in a class. The mean of their score is 85 and the variance of the score is zero.\n",
    "# What can you interpret about the score obtained by all learners?"
   ]
  },
  {
   "cell_type": "markdown",
   "id": "472b4fc5",
   "metadata": {},
   "source": [
    "# Answer 1) : \n",
    "\n",
    "AS the mean of their score is 85 & varience is zero, so SD is also zero, \n",
    "which means theer is no deviation among all student from mean & they scored equal numbers.\n",
    "So all 10 students score 85 numbers hence mean is also 85 & varience is zero.\n",
    "    "
   ]
  },
  {
   "cell_type": "markdown",
   "id": "c971e9af",
   "metadata": {},
   "source": [
    "# Ques 2) In a residential locality, the mean size of the house is 2224 square feet and the median value of the house is 1500 square feet. \n",
    "# What can you interpret about the skewness in the distribution of house size?\n",
    "# Are there bigger or smaller houses in the residential locality?"
   ]
  },
  {
   "cell_type": "markdown",
   "id": "899dee5a",
   "metadata": {},
   "source": [
    "## Answer 2) :\n",
    "\n",
    "The mean is greater than median which means data is shifted towrads right (more number of houses with bigger size) from centre hence it is left skewed. There are bigger & smaller houses."
   ]
  },
  {
   "cell_type": "markdown",
   "id": "25c7ba10",
   "metadata": {},
   "source": [
    "# Ques 3) The following table shows the mean and variance of the expenditure for two groups of people.You want to compare the variability in expenditure for both groups with respect to their mean. Which statistical measure would you use to evaluate the variability in expenditure? Please provide an explanation for your answer."
   ]
  },
  {
   "cell_type": "markdown",
   "id": "d5383b00",
   "metadata": {},
   "source": [
    "## Answer 3) :\n",
    "- Three Sigma rule of Standard Deviation (Measure of Dispersion) will be used to find the variability.\n",
    "- As per sd rule (mean + 3SD & mean - 3SD), which will give us 99.7% confidence level.\n",
    "- So as per above rule the variability in expenditure of Group1 is 125000 to 875000 & for Group2 is 10000 to 70000"
   ]
  },
  {
   "cell_type": "markdown",
   "id": "25d96133",
   "metadata": {},
   "source": [
    "# Ques 4) During the survey, the ages of 80 patients infected by COVID and admitted to one of the city hospitals were recorded and the collected data is represented in the less than cumulative frequency distribution table.\n",
    "\n",
    "a. Which class interval has the highest frequency?\n",
    "\n",
    "b. Which age was affected the least?\n",
    "\n",
    "c. How many patients aged 45 years and above were admitted?\n",
    "\n",
    "d. Which is the modal class interval in the above dataset\n",
    "\n",
    "e. What is the median class interval of age?"
   ]
  },
  {
   "cell_type": "markdown",
   "id": "1e21738d",
   "metadata": {},
   "source": [
    "# Answer 4) :\n",
    "\n",
    "    a) calss interval age of 35-45 yrs with highest number of patients is 23\n",
    "    b) 55-65 yrs age was affected least.\n",
    "    c) 19 patients were admitted having age 45 years & above.\n",
    "    d) i) As per the type of Analysis the Modal class interval is 55-65 as lowest number of patients are ther in this class.\n",
    "       ii) As per the definition of Modal class, the modal class is 35-45\n",
    "    e) median class interval of age if 35-45."
   ]
  },
  {
   "cell_type": "markdown",
   "id": "ad38d45d",
   "metadata": {},
   "source": [
    "# Ques 5) Assume you are the trader and you have invested over the years, and you are worried about the average return on investment. What average method would you use to compute the average return for the data given below?"
   ]
  },
  {
   "cell_type": "markdown",
   "id": "d25a3a87",
   "metadata": {},
   "source": [
    "# Answer 5) :\n",
    "\n",
    "Geometric mean will be used to compute the average return on investments."
   ]
  },
  {
   "cell_type": "markdown",
   "id": "27606550",
   "metadata": {},
   "source": [
    "# Ques 6) Suppose you have been told to measure the average height of all the males on the earth. What would be your strategy for the same? Would the average height be a parameter or a statistic? Justify your answer."
   ]
  },
  {
   "cell_type": "markdown",
   "id": "52f81a84",
   "metadata": {},
   "source": [
    "# Answer 6) :\n",
    "\n",
    "- We will take a sample from the population as it is not possible to measure the height for the entire population.\n",
    "- It will be statistics as we can do it on a sample of population to measure how the spread is.\n",
    "- We will use sample varience of Measure of Dispersion. "
   ]
  },
  {
   "cell_type": "markdown",
   "id": "de3a1906",
   "metadata": {},
   "source": [
    "# Ques 7) Calculate the z score of the following numbers:\n",
    "#         X = [4.5,6.2,7.3,9.1,10.4,11]"
   ]
  },
  {
   "cell_type": "code",
   "execution_count": 1,
   "id": "a081a7e1",
   "metadata": {},
   "outputs": [],
   "source": [
    "import pandas as pd\n",
    "import numpy as np\n",
    "import scipy.stats as stats"
   ]
  },
  {
   "cell_type": "code",
   "execution_count": 2,
   "id": "34f18e4e",
   "metadata": {},
   "outputs": [],
   "source": [
    "x = np.array([4.5,6.2,7.3,9.1,10.4,11])"
   ]
  },
  {
   "cell_type": "code",
   "execution_count": 3,
   "id": "7d7b8572",
   "metadata": {},
   "outputs": [
    {
     "data": {
      "text/plain": [
       "array([-1.55385602, -0.81667781, -0.33968015,  0.44086148,  1.00458598,\n",
       "        1.26476653])"
      ]
     },
     "execution_count": 3,
     "metadata": {},
     "output_type": "execute_result"
    }
   ],
   "source": [
    "stats.zscore(x)"
   ]
  },
  {
   "cell_type": "markdown",
   "id": "dafcd7ea",
   "metadata": {},
   "source": [
    "## SECTION-2\n",
    "## # Ques 8) Give us the statistical summary for all the variables in the dataset."
   ]
  },
  {
   "cell_type": "code",
   "execution_count": 4,
   "id": "085b0857",
   "metadata": {},
   "outputs": [],
   "source": [
    "loan_data = pd.read_csv(r\"D:\\Hero vired\\PYTHON\\Descriptive Analysis\\Graded Assignment\\Bank Personal Loan Modelling.csv\")"
   ]
  },
  {
   "cell_type": "code",
   "execution_count": 5,
   "id": "640434cb",
   "metadata": {},
   "outputs": [
    {
     "data": {
      "text/html": [
       "<div>\n",
       "<style scoped>\n",
       "    .dataframe tbody tr th:only-of-type {\n",
       "        vertical-align: middle;\n",
       "    }\n",
       "\n",
       "    .dataframe tbody tr th {\n",
       "        vertical-align: top;\n",
       "    }\n",
       "\n",
       "    .dataframe thead th {\n",
       "        text-align: right;\n",
       "    }\n",
       "</style>\n",
       "<table border=\"1\" class=\"dataframe\">\n",
       "  <thead>\n",
       "    <tr style=\"text-align: right;\">\n",
       "      <th></th>\n",
       "      <th>ID</th>\n",
       "      <th>Age</th>\n",
       "      <th>Experience</th>\n",
       "      <th>Income</th>\n",
       "      <th>ZIP Code</th>\n",
       "      <th>Family</th>\n",
       "      <th>CCAvg</th>\n",
       "      <th>Education</th>\n",
       "      <th>Mortgage</th>\n",
       "      <th>Personal Loan</th>\n",
       "      <th>Securities Account</th>\n",
       "      <th>CD Account</th>\n",
       "      <th>Online</th>\n",
       "      <th>CreditCard</th>\n",
       "    </tr>\n",
       "  </thead>\n",
       "  <tbody>\n",
       "    <tr>\n",
       "      <th>0</th>\n",
       "      <td>1</td>\n",
       "      <td>25</td>\n",
       "      <td>1</td>\n",
       "      <td>49</td>\n",
       "      <td>91107</td>\n",
       "      <td>4</td>\n",
       "      <td>1.6</td>\n",
       "      <td>1</td>\n",
       "      <td>0</td>\n",
       "      <td>0</td>\n",
       "      <td>1</td>\n",
       "      <td>0</td>\n",
       "      <td>0</td>\n",
       "      <td>0</td>\n",
       "    </tr>\n",
       "    <tr>\n",
       "      <th>1</th>\n",
       "      <td>2</td>\n",
       "      <td>45</td>\n",
       "      <td>19</td>\n",
       "      <td>34</td>\n",
       "      <td>90089</td>\n",
       "      <td>3</td>\n",
       "      <td>1.5</td>\n",
       "      <td>1</td>\n",
       "      <td>0</td>\n",
       "      <td>0</td>\n",
       "      <td>1</td>\n",
       "      <td>0</td>\n",
       "      <td>0</td>\n",
       "      <td>0</td>\n",
       "    </tr>\n",
       "    <tr>\n",
       "      <th>2</th>\n",
       "      <td>3</td>\n",
       "      <td>39</td>\n",
       "      <td>15</td>\n",
       "      <td>11</td>\n",
       "      <td>94720</td>\n",
       "      <td>1</td>\n",
       "      <td>1.0</td>\n",
       "      <td>1</td>\n",
       "      <td>0</td>\n",
       "      <td>0</td>\n",
       "      <td>0</td>\n",
       "      <td>0</td>\n",
       "      <td>0</td>\n",
       "      <td>0</td>\n",
       "    </tr>\n",
       "    <tr>\n",
       "      <th>3</th>\n",
       "      <td>4</td>\n",
       "      <td>35</td>\n",
       "      <td>9</td>\n",
       "      <td>100</td>\n",
       "      <td>94112</td>\n",
       "      <td>1</td>\n",
       "      <td>2.7</td>\n",
       "      <td>2</td>\n",
       "      <td>0</td>\n",
       "      <td>0</td>\n",
       "      <td>0</td>\n",
       "      <td>0</td>\n",
       "      <td>0</td>\n",
       "      <td>0</td>\n",
       "    </tr>\n",
       "    <tr>\n",
       "      <th>4</th>\n",
       "      <td>5</td>\n",
       "      <td>35</td>\n",
       "      <td>8</td>\n",
       "      <td>45</td>\n",
       "      <td>91330</td>\n",
       "      <td>4</td>\n",
       "      <td>1.0</td>\n",
       "      <td>2</td>\n",
       "      <td>0</td>\n",
       "      <td>0</td>\n",
       "      <td>0</td>\n",
       "      <td>0</td>\n",
       "      <td>0</td>\n",
       "      <td>1</td>\n",
       "    </tr>\n",
       "    <tr>\n",
       "      <th>...</th>\n",
       "      <td>...</td>\n",
       "      <td>...</td>\n",
       "      <td>...</td>\n",
       "      <td>...</td>\n",
       "      <td>...</td>\n",
       "      <td>...</td>\n",
       "      <td>...</td>\n",
       "      <td>...</td>\n",
       "      <td>...</td>\n",
       "      <td>...</td>\n",
       "      <td>...</td>\n",
       "      <td>...</td>\n",
       "      <td>...</td>\n",
       "      <td>...</td>\n",
       "    </tr>\n",
       "    <tr>\n",
       "      <th>4995</th>\n",
       "      <td>4996</td>\n",
       "      <td>29</td>\n",
       "      <td>3</td>\n",
       "      <td>40</td>\n",
       "      <td>92697</td>\n",
       "      <td>1</td>\n",
       "      <td>1.9</td>\n",
       "      <td>3</td>\n",
       "      <td>0</td>\n",
       "      <td>0</td>\n",
       "      <td>0</td>\n",
       "      <td>0</td>\n",
       "      <td>1</td>\n",
       "      <td>0</td>\n",
       "    </tr>\n",
       "    <tr>\n",
       "      <th>4996</th>\n",
       "      <td>4997</td>\n",
       "      <td>30</td>\n",
       "      <td>4</td>\n",
       "      <td>15</td>\n",
       "      <td>92037</td>\n",
       "      <td>4</td>\n",
       "      <td>0.4</td>\n",
       "      <td>1</td>\n",
       "      <td>85</td>\n",
       "      <td>0</td>\n",
       "      <td>0</td>\n",
       "      <td>0</td>\n",
       "      <td>1</td>\n",
       "      <td>0</td>\n",
       "    </tr>\n",
       "    <tr>\n",
       "      <th>4997</th>\n",
       "      <td>4998</td>\n",
       "      <td>63</td>\n",
       "      <td>39</td>\n",
       "      <td>24</td>\n",
       "      <td>93023</td>\n",
       "      <td>2</td>\n",
       "      <td>0.3</td>\n",
       "      <td>3</td>\n",
       "      <td>0</td>\n",
       "      <td>0</td>\n",
       "      <td>0</td>\n",
       "      <td>0</td>\n",
       "      <td>0</td>\n",
       "      <td>0</td>\n",
       "    </tr>\n",
       "    <tr>\n",
       "      <th>4998</th>\n",
       "      <td>4999</td>\n",
       "      <td>65</td>\n",
       "      <td>40</td>\n",
       "      <td>49</td>\n",
       "      <td>90034</td>\n",
       "      <td>3</td>\n",
       "      <td>0.5</td>\n",
       "      <td>2</td>\n",
       "      <td>0</td>\n",
       "      <td>0</td>\n",
       "      <td>0</td>\n",
       "      <td>0</td>\n",
       "      <td>1</td>\n",
       "      <td>0</td>\n",
       "    </tr>\n",
       "    <tr>\n",
       "      <th>4999</th>\n",
       "      <td>5000</td>\n",
       "      <td>28</td>\n",
       "      <td>4</td>\n",
       "      <td>83</td>\n",
       "      <td>92612</td>\n",
       "      <td>3</td>\n",
       "      <td>0.8</td>\n",
       "      <td>1</td>\n",
       "      <td>0</td>\n",
       "      <td>0</td>\n",
       "      <td>0</td>\n",
       "      <td>0</td>\n",
       "      <td>1</td>\n",
       "      <td>1</td>\n",
       "    </tr>\n",
       "  </tbody>\n",
       "</table>\n",
       "<p>5000 rows × 14 columns</p>\n",
       "</div>"
      ],
      "text/plain": [
       "        ID  Age  Experience  Income  ZIP Code  Family  CCAvg  Education  \\\n",
       "0        1   25           1      49     91107       4    1.6          1   \n",
       "1        2   45          19      34     90089       3    1.5          1   \n",
       "2        3   39          15      11     94720       1    1.0          1   \n",
       "3        4   35           9     100     94112       1    2.7          2   \n",
       "4        5   35           8      45     91330       4    1.0          2   \n",
       "...    ...  ...         ...     ...       ...     ...    ...        ...   \n",
       "4995  4996   29           3      40     92697       1    1.9          3   \n",
       "4996  4997   30           4      15     92037       4    0.4          1   \n",
       "4997  4998   63          39      24     93023       2    0.3          3   \n",
       "4998  4999   65          40      49     90034       3    0.5          2   \n",
       "4999  5000   28           4      83     92612       3    0.8          1   \n",
       "\n",
       "      Mortgage  Personal Loan  Securities Account  CD Account  Online  \\\n",
       "0            0              0                   1           0       0   \n",
       "1            0              0                   1           0       0   \n",
       "2            0              0                   0           0       0   \n",
       "3            0              0                   0           0       0   \n",
       "4            0              0                   0           0       0   \n",
       "...        ...            ...                 ...         ...     ...   \n",
       "4995         0              0                   0           0       1   \n",
       "4996        85              0                   0           0       1   \n",
       "4997         0              0                   0           0       0   \n",
       "4998         0              0                   0           0       1   \n",
       "4999         0              0                   0           0       1   \n",
       "\n",
       "      CreditCard  \n",
       "0              0  \n",
       "1              0  \n",
       "2              0  \n",
       "3              0  \n",
       "4              1  \n",
       "...          ...  \n",
       "4995           0  \n",
       "4996           0  \n",
       "4997           0  \n",
       "4998           0  \n",
       "4999           1  \n",
       "\n",
       "[5000 rows x 14 columns]"
      ]
     },
     "execution_count": 5,
     "metadata": {},
     "output_type": "execute_result"
    }
   ],
   "source": [
    "loan_data"
   ]
  },
  {
   "cell_type": "code",
   "execution_count": 6,
   "id": "fe52a128",
   "metadata": {},
   "outputs": [
    {
     "data": {
      "text/html": [
       "<div>\n",
       "<style scoped>\n",
       "    .dataframe tbody tr th:only-of-type {\n",
       "        vertical-align: middle;\n",
       "    }\n",
       "\n",
       "    .dataframe tbody tr th {\n",
       "        vertical-align: top;\n",
       "    }\n",
       "\n",
       "    .dataframe thead th {\n",
       "        text-align: right;\n",
       "    }\n",
       "</style>\n",
       "<table border=\"1\" class=\"dataframe\">\n",
       "  <thead>\n",
       "    <tr style=\"text-align: right;\">\n",
       "      <th></th>\n",
       "      <th>count</th>\n",
       "      <th>mean</th>\n",
       "      <th>std</th>\n",
       "      <th>min</th>\n",
       "      <th>25%</th>\n",
       "      <th>50%</th>\n",
       "      <th>75%</th>\n",
       "      <th>max</th>\n",
       "    </tr>\n",
       "  </thead>\n",
       "  <tbody>\n",
       "    <tr>\n",
       "      <th>ID</th>\n",
       "      <td>5000.0</td>\n",
       "      <td>2500.500000</td>\n",
       "      <td>1443.520003</td>\n",
       "      <td>1.0</td>\n",
       "      <td>1250.75</td>\n",
       "      <td>2500.5</td>\n",
       "      <td>3750.25</td>\n",
       "      <td>5000.0</td>\n",
       "    </tr>\n",
       "    <tr>\n",
       "      <th>Age</th>\n",
       "      <td>5000.0</td>\n",
       "      <td>45.338400</td>\n",
       "      <td>11.463166</td>\n",
       "      <td>23.0</td>\n",
       "      <td>35.00</td>\n",
       "      <td>45.0</td>\n",
       "      <td>55.00</td>\n",
       "      <td>67.0</td>\n",
       "    </tr>\n",
       "    <tr>\n",
       "      <th>Experience</th>\n",
       "      <td>5000.0</td>\n",
       "      <td>20.104600</td>\n",
       "      <td>11.467954</td>\n",
       "      <td>-3.0</td>\n",
       "      <td>10.00</td>\n",
       "      <td>20.0</td>\n",
       "      <td>30.00</td>\n",
       "      <td>43.0</td>\n",
       "    </tr>\n",
       "    <tr>\n",
       "      <th>Income</th>\n",
       "      <td>5000.0</td>\n",
       "      <td>73.774200</td>\n",
       "      <td>46.033729</td>\n",
       "      <td>8.0</td>\n",
       "      <td>39.00</td>\n",
       "      <td>64.0</td>\n",
       "      <td>98.00</td>\n",
       "      <td>224.0</td>\n",
       "    </tr>\n",
       "    <tr>\n",
       "      <th>ZIP Code</th>\n",
       "      <td>5000.0</td>\n",
       "      <td>93152.503000</td>\n",
       "      <td>2121.852197</td>\n",
       "      <td>9307.0</td>\n",
       "      <td>91911.00</td>\n",
       "      <td>93437.0</td>\n",
       "      <td>94608.00</td>\n",
       "      <td>96651.0</td>\n",
       "    </tr>\n",
       "    <tr>\n",
       "      <th>Family</th>\n",
       "      <td>5000.0</td>\n",
       "      <td>2.396400</td>\n",
       "      <td>1.147663</td>\n",
       "      <td>1.0</td>\n",
       "      <td>1.00</td>\n",
       "      <td>2.0</td>\n",
       "      <td>3.00</td>\n",
       "      <td>4.0</td>\n",
       "    </tr>\n",
       "    <tr>\n",
       "      <th>CCAvg</th>\n",
       "      <td>5000.0</td>\n",
       "      <td>1.937938</td>\n",
       "      <td>1.747659</td>\n",
       "      <td>0.0</td>\n",
       "      <td>0.70</td>\n",
       "      <td>1.5</td>\n",
       "      <td>2.50</td>\n",
       "      <td>10.0</td>\n",
       "    </tr>\n",
       "    <tr>\n",
       "      <th>Education</th>\n",
       "      <td>5000.0</td>\n",
       "      <td>1.881000</td>\n",
       "      <td>0.839869</td>\n",
       "      <td>1.0</td>\n",
       "      <td>1.00</td>\n",
       "      <td>2.0</td>\n",
       "      <td>3.00</td>\n",
       "      <td>3.0</td>\n",
       "    </tr>\n",
       "    <tr>\n",
       "      <th>Mortgage</th>\n",
       "      <td>5000.0</td>\n",
       "      <td>56.498800</td>\n",
       "      <td>101.713802</td>\n",
       "      <td>0.0</td>\n",
       "      <td>0.00</td>\n",
       "      <td>0.0</td>\n",
       "      <td>101.00</td>\n",
       "      <td>635.0</td>\n",
       "    </tr>\n",
       "    <tr>\n",
       "      <th>Personal Loan</th>\n",
       "      <td>5000.0</td>\n",
       "      <td>0.096000</td>\n",
       "      <td>0.294621</td>\n",
       "      <td>0.0</td>\n",
       "      <td>0.00</td>\n",
       "      <td>0.0</td>\n",
       "      <td>0.00</td>\n",
       "      <td>1.0</td>\n",
       "    </tr>\n",
       "    <tr>\n",
       "      <th>Securities Account</th>\n",
       "      <td>5000.0</td>\n",
       "      <td>0.104400</td>\n",
       "      <td>0.305809</td>\n",
       "      <td>0.0</td>\n",
       "      <td>0.00</td>\n",
       "      <td>0.0</td>\n",
       "      <td>0.00</td>\n",
       "      <td>1.0</td>\n",
       "    </tr>\n",
       "    <tr>\n",
       "      <th>CD Account</th>\n",
       "      <td>5000.0</td>\n",
       "      <td>0.060400</td>\n",
       "      <td>0.238250</td>\n",
       "      <td>0.0</td>\n",
       "      <td>0.00</td>\n",
       "      <td>0.0</td>\n",
       "      <td>0.00</td>\n",
       "      <td>1.0</td>\n",
       "    </tr>\n",
       "    <tr>\n",
       "      <th>Online</th>\n",
       "      <td>5000.0</td>\n",
       "      <td>0.596800</td>\n",
       "      <td>0.490589</td>\n",
       "      <td>0.0</td>\n",
       "      <td>0.00</td>\n",
       "      <td>1.0</td>\n",
       "      <td>1.00</td>\n",
       "      <td>1.0</td>\n",
       "    </tr>\n",
       "    <tr>\n",
       "      <th>CreditCard</th>\n",
       "      <td>5000.0</td>\n",
       "      <td>0.294000</td>\n",
       "      <td>0.455637</td>\n",
       "      <td>0.0</td>\n",
       "      <td>0.00</td>\n",
       "      <td>0.0</td>\n",
       "      <td>1.00</td>\n",
       "      <td>1.0</td>\n",
       "    </tr>\n",
       "  </tbody>\n",
       "</table>\n",
       "</div>"
      ],
      "text/plain": [
       "                     count          mean          std     min       25%  \\\n",
       "ID                  5000.0   2500.500000  1443.520003     1.0   1250.75   \n",
       "Age                 5000.0     45.338400    11.463166    23.0     35.00   \n",
       "Experience          5000.0     20.104600    11.467954    -3.0     10.00   \n",
       "Income              5000.0     73.774200    46.033729     8.0     39.00   \n",
       "ZIP Code            5000.0  93152.503000  2121.852197  9307.0  91911.00   \n",
       "Family              5000.0      2.396400     1.147663     1.0      1.00   \n",
       "CCAvg               5000.0      1.937938     1.747659     0.0      0.70   \n",
       "Education           5000.0      1.881000     0.839869     1.0      1.00   \n",
       "Mortgage            5000.0     56.498800   101.713802     0.0      0.00   \n",
       "Personal Loan       5000.0      0.096000     0.294621     0.0      0.00   \n",
       "Securities Account  5000.0      0.104400     0.305809     0.0      0.00   \n",
       "CD Account          5000.0      0.060400     0.238250     0.0      0.00   \n",
       "Online              5000.0      0.596800     0.490589     0.0      0.00   \n",
       "CreditCard          5000.0      0.294000     0.455637     0.0      0.00   \n",
       "\n",
       "                        50%       75%      max  \n",
       "ID                   2500.5   3750.25   5000.0  \n",
       "Age                    45.0     55.00     67.0  \n",
       "Experience             20.0     30.00     43.0  \n",
       "Income                 64.0     98.00    224.0  \n",
       "ZIP Code            93437.0  94608.00  96651.0  \n",
       "Family                  2.0      3.00      4.0  \n",
       "CCAvg                   1.5      2.50     10.0  \n",
       "Education               2.0      3.00      3.0  \n",
       "Mortgage                0.0    101.00    635.0  \n",
       "Personal Loan           0.0      0.00      1.0  \n",
       "Securities Account      0.0      0.00      1.0  \n",
       "CD Account              0.0      0.00      1.0  \n",
       "Online                  1.0      1.00      1.0  \n",
       "CreditCard              0.0      1.00      1.0  "
      ]
     },
     "execution_count": 6,
     "metadata": {},
     "output_type": "execute_result"
    }
   ],
   "source": [
    "loan_data.describe().T"
   ]
  },
  {
   "cell_type": "markdown",
   "id": "4222efbd",
   "metadata": {},
   "source": [
    "# Ques 9) Evaluate the measures of central tendency and measures of dispersion for all the quantitative variables in the dataset."
   ]
  },
  {
   "cell_type": "markdown",
   "id": "68a0b5cd",
   "metadata": {},
   "source": [
    "## Measure of Central Tendency --> Mean, Median & Mode"
   ]
  },
  {
   "cell_type": "markdown",
   "id": "a7500d3b",
   "metadata": {},
   "source": [
    "# Mean"
   ]
  },
  {
   "cell_type": "code",
   "execution_count": 7,
   "id": "32c75bb6",
   "metadata": {
    "scrolled": true
   },
   "outputs": [
    {
     "data": {
      "text/plain": [
       "Age           45.338400\n",
       "Experience    20.104600\n",
       "Income        73.774200\n",
       "CCAvg          1.937938\n",
       "Mortgage      56.498800\n",
       "dtype: float64"
      ]
     },
     "execution_count": 7,
     "metadata": {},
     "output_type": "execute_result"
    }
   ],
   "source": [
    "loan_data[[\"Age\",\"Experience\", \"Income\", \"CCAvg\", \"Mortgage\"]].mean()"
   ]
  },
  {
   "cell_type": "markdown",
   "id": "4fb83e2f",
   "metadata": {},
   "source": [
    "# Median"
   ]
  },
  {
   "cell_type": "code",
   "execution_count": 8,
   "id": "2bae020e",
   "metadata": {},
   "outputs": [
    {
     "data": {
      "text/plain": [
       "Age           45.0\n",
       "Experience    20.0\n",
       "Income        64.0\n",
       "CCAvg          1.5\n",
       "Mortgage       0.0\n",
       "dtype: float64"
      ]
     },
     "execution_count": 8,
     "metadata": {},
     "output_type": "execute_result"
    }
   ],
   "source": [
    "loan_data[[\"Age\",\"Experience\", \"Income\", \"CCAvg\", \"Mortgage\"]].median()"
   ]
  },
  {
   "cell_type": "markdown",
   "id": "b636262d",
   "metadata": {},
   "source": [
    "# Mode"
   ]
  },
  {
   "cell_type": "code",
   "execution_count": 9,
   "id": "dc6f97c9",
   "metadata": {},
   "outputs": [
    {
     "data": {
      "text/html": [
       "<div>\n",
       "<style scoped>\n",
       "    .dataframe tbody tr th:only-of-type {\n",
       "        vertical-align: middle;\n",
       "    }\n",
       "\n",
       "    .dataframe tbody tr th {\n",
       "        vertical-align: top;\n",
       "    }\n",
       "\n",
       "    .dataframe thead th {\n",
       "        text-align: right;\n",
       "    }\n",
       "</style>\n",
       "<table border=\"1\" class=\"dataframe\">\n",
       "  <thead>\n",
       "    <tr style=\"text-align: right;\">\n",
       "      <th></th>\n",
       "      <th>Age</th>\n",
       "      <th>Experience</th>\n",
       "      <th>Income</th>\n",
       "      <th>CCAvg</th>\n",
       "      <th>Mortgage</th>\n",
       "    </tr>\n",
       "  </thead>\n",
       "  <tbody>\n",
       "    <tr>\n",
       "      <th>0</th>\n",
       "      <td>35</td>\n",
       "      <td>32</td>\n",
       "      <td>44</td>\n",
       "      <td>0.3</td>\n",
       "      <td>0</td>\n",
       "    </tr>\n",
       "  </tbody>\n",
       "</table>\n",
       "</div>"
      ],
      "text/plain": [
       "   Age  Experience  Income  CCAvg  Mortgage\n",
       "0   35          32      44    0.3         0"
      ]
     },
     "execution_count": 9,
     "metadata": {},
     "output_type": "execute_result"
    }
   ],
   "source": [
    "loan_data[[\"Age\",\"Experience\", \"Income\", \"CCAvg\", \"Mortgage\"]].mode()"
   ]
  },
  {
   "cell_type": "markdown",
   "id": "d865e6cf",
   "metadata": {},
   "source": [
    "## Measure of Dispersion --> Standard Deviation, Varience, Range & IQR"
   ]
  },
  {
   "cell_type": "markdown",
   "id": "693bba32",
   "metadata": {},
   "source": [
    "## Varience"
   ]
  },
  {
   "cell_type": "code",
   "execution_count": 10,
   "id": "511db5ac",
   "metadata": {},
   "outputs": [
    {
     "data": {
      "text/plain": [
       "Age             131.404166\n",
       "Experience      131.513962\n",
       "Income         2119.104235\n",
       "CCAvg             3.054312\n",
       "Mortgage      10345.697538\n",
       "dtype: float64"
      ]
     },
     "execution_count": 10,
     "metadata": {},
     "output_type": "execute_result"
    }
   ],
   "source": [
    "loan_data[[\"Age\",\"Experience\", \"Income\", \"CCAvg\", \"Mortgage\"]].var()"
   ]
  },
  {
   "cell_type": "markdown",
   "id": "d813e52d",
   "metadata": {},
   "source": [
    "## Standard Deviation"
   ]
  },
  {
   "cell_type": "code",
   "execution_count": 11,
   "id": "199169aa",
   "metadata": {},
   "outputs": [
    {
     "data": {
      "text/plain": [
       "Age            11.463166\n",
       "Experience     11.467954\n",
       "Income         46.033729\n",
       "CCAvg           1.747659\n",
       "Mortgage      101.713802\n",
       "dtype: float64"
      ]
     },
     "execution_count": 11,
     "metadata": {},
     "output_type": "execute_result"
    }
   ],
   "source": [
    "loan_data[[\"Age\",\"Experience\", \"Income\", \"CCAvg\", \"Mortgage\"]].std()"
   ]
  },
  {
   "cell_type": "markdown",
   "id": "7aa6dafe",
   "metadata": {},
   "source": [
    "## Range"
   ]
  },
  {
   "cell_type": "code",
   "execution_count": 12,
   "id": "097403ba",
   "metadata": {},
   "outputs": [
    {
     "data": {
      "text/plain": [
       "Age            44.0\n",
       "Experience     46.0\n",
       "Income        216.0\n",
       "CCAvg          10.0\n",
       "Mortgage      635.0\n",
       "dtype: float64"
      ]
     },
     "execution_count": 12,
     "metadata": {},
     "output_type": "execute_result"
    }
   ],
   "source": [
    "loan_data[[\"Age\",\"Experience\", \"Income\", \"CCAvg\", \"Mortgage\"]].max() - loan_data[[\"Age\",\"Experience\", \"Income\", \"CCAvg\", \"Mortgage\"]].min()"
   ]
  },
  {
   "cell_type": "markdown",
   "id": "d43165f9",
   "metadata": {},
   "source": [
    "## IQR (Q3 - Q1)"
   ]
  },
  {
   "cell_type": "code",
   "execution_count": 13,
   "id": "0e2f8e27",
   "metadata": {},
   "outputs": [
    {
     "data": {
      "text/plain": [
       "Age            20.0\n",
       "Experience     20.0\n",
       "Income         59.0\n",
       "CCAvg           1.8\n",
       "Mortgage      101.0\n",
       "dtype: float64"
      ]
     },
     "execution_count": 13,
     "metadata": {},
     "output_type": "execute_result"
    }
   ],
   "source": [
    "loan_data[[\"Age\",\"Experience\", \"Income\", \"CCAvg\", \"Mortgage\"]].quantile(0.75)-loan_data[[\"Age\",\"Experience\", \"Income\", \"CCAvg\", \"Mortgage\"]].quantile(0.25)"
   ]
  },
  {
   "cell_type": "markdown",
   "id": "02aa1370",
   "metadata": {},
   "source": [
    "# Ques 10) What statistical method will you use to examine the presence of a linear relationship between age and experience variables? Also, create a plot to illustrate this relationship."
   ]
  },
  {
   "cell_type": "code",
   "execution_count": 14,
   "id": "70e65e00",
   "metadata": {},
   "outputs": [
    {
     "data": {
      "text/html": [
       "<div>\n",
       "<style scoped>\n",
       "    .dataframe tbody tr th:only-of-type {\n",
       "        vertical-align: middle;\n",
       "    }\n",
       "\n",
       "    .dataframe tbody tr th {\n",
       "        vertical-align: top;\n",
       "    }\n",
       "\n",
       "    .dataframe thead th {\n",
       "        text-align: right;\n",
       "    }\n",
       "</style>\n",
       "<table border=\"1\" class=\"dataframe\">\n",
       "  <thead>\n",
       "    <tr style=\"text-align: right;\">\n",
       "      <th></th>\n",
       "      <th>Age</th>\n",
       "      <th>Experience</th>\n",
       "    </tr>\n",
       "  </thead>\n",
       "  <tbody>\n",
       "    <tr>\n",
       "      <th>Age</th>\n",
       "      <td>1.000000</td>\n",
       "      <td>0.994215</td>\n",
       "    </tr>\n",
       "    <tr>\n",
       "      <th>Experience</th>\n",
       "      <td>0.994215</td>\n",
       "      <td>1.000000</td>\n",
       "    </tr>\n",
       "  </tbody>\n",
       "</table>\n",
       "</div>"
      ],
      "text/plain": [
       "                 Age  Experience\n",
       "Age         1.000000    0.994215\n",
       "Experience  0.994215    1.000000"
      ]
     },
     "execution_count": 14,
     "metadata": {},
     "output_type": "execute_result"
    }
   ],
   "source": [
    "loan_data.iloc[:,[1,2]].corr()"
   ]
  },
  {
   "cell_type": "markdown",
   "id": "cf37de99",
   "metadata": {},
   "source": [
    "# Above result defines that age & experience has correlation (0.99) > 0.7 hence it is strong linear correlation"
   ]
  },
  {
   "cell_type": "code",
   "execution_count": 15,
   "id": "42d52755",
   "metadata": {},
   "outputs": [],
   "source": [
    "import matplotlib.pyplot as plt\n",
    "import seaborn as sns"
   ]
  },
  {
   "cell_type": "code",
   "execution_count": 16,
   "id": "d0d1c029",
   "metadata": {},
   "outputs": [
    {
     "name": "stderr",
     "output_type": "stream",
     "text": [
      "C:\\Users\\pusha\\anaconda3\\Lib\\site-packages\\seaborn\\axisgrid.py:118: UserWarning: The figure layout has changed to tight\n",
      "  self._figure.tight_layout(*args, **kwargs)\n"
     ]
    },
    {
     "data": {
      "text/plain": [
       "<seaborn.axisgrid.FacetGrid at 0x2a397836190>"
      ]
     },
     "execution_count": 16,
     "metadata": {},
     "output_type": "execute_result"
    },
    {
     "data": {
      "image/png": "[encoded data removed]",
      "text/plain": [
       "<Figure size 500x500 with 1 Axes>"
      ]
     },
     "metadata": {},
     "output_type": "display_data"
    }
   ],
   "source": [
    "sns.relplot(data = loan_data, x = \"Age\" , y = \"Experience\")"
   ]
  },
  {
   "cell_type": "code",
   "execution_count": 17,
   "id": "5ba7cd31",
   "metadata": {},
   "outputs": [
    {
     "data": {
      "text/plain": [
       "<Axes: xlabel='Age', ylabel='Experience'>"
      ]
     },
     "execution_count": 17,
     "metadata": {},
     "output_type": "execute_result"
    },
    {
     "data": {
      "image/png": "[encoded data removed]",
      "text/plain": [
       "<Figure size 640x480 with 1 Axes>"
      ]
     },
     "metadata": {},
     "output_type": "display_data"
    }
   ],
   "source": [
    "loan_data.plot(x = \"Age\", y = \"Experience\", kind = \"scatter\")"
   ]
  },
  {
   "cell_type": "code",
   "execution_count": 18,
   "id": "68780b22",
   "metadata": {},
   "outputs": [
    {
     "data": {
      "text/plain": [
       "Text(0, 0.5, 'Experience')"
      ]
     },
     "execution_count": 18,
     "metadata": {},
     "output_type": "execute_result"
    },
    {
     "data": {
      "image/png": "[encoded data removed]",
      "text/plain": [
       "<Figure size 640x480 with 1 Axes>"
      ]
     },
     "metadata": {},
     "output_type": "display_data"
    }
   ],
   "source": [
    "plt.scatter(loan_data['Age'],loan_data['Experience'])\n",
    "plt.title('Age vs Experience')\n",
    "plt.xlabel('Age')\n",
    "plt.ylabel('Experience')"
   ]
  },
  {
   "cell_type": "markdown",
   "id": "a2f5d6a7",
   "metadata": {},
   "source": [
    "# Ques 11) What is the most frequent family size observed in this dataset?"
   ]
  },
  {
   "cell_type": "markdown",
   "id": "0a0b0085",
   "metadata": {},
   "source": [
    "Method -1 :"
   ]
  },
  {
   "cell_type": "code",
   "execution_count": 19,
   "id": "92db9473",
   "metadata": {},
   "outputs": [
    {
     "data": {
      "text/plain": [
       "0    1\n",
       "Name: Family, dtype: int64"
      ]
     },
     "execution_count": 19,
     "metadata": {},
     "output_type": "execute_result"
    }
   ],
   "source": [
    "loan_data['Family'].mode()"
   ]
  },
  {
   "cell_type": "markdown",
   "id": "922717ed",
   "metadata": {},
   "source": [
    "# From mode it represents that family size of 1 is observed most frequently."
   ]
  },
  {
   "cell_type": "markdown",
   "id": "b4bf2967",
   "metadata": {},
   "source": [
    "Method -2 :"
   ]
  },
  {
   "cell_type": "code",
   "execution_count": 20,
   "id": "d3b740e8",
   "metadata": {},
   "outputs": [
    {
     "data": {
      "text/plain": [
       "Family\n",
       "1    1472\n",
       "2    1296\n",
       "4    1222\n",
       "3    1010\n",
       "Name: count, dtype: int64"
      ]
     },
     "execution_count": 20,
     "metadata": {},
     "output_type": "execute_result"
    }
   ],
   "source": [
    "loan_data[\"Family\"].value_counts()"
   ]
  },
  {
   "cell_type": "markdown",
   "id": "6cdb7117",
   "metadata": {},
   "source": [
    "# From above values \"Family size of 1 = 1472\" is highest among all, so it is most frequent observed in given dataset."
   ]
  },
  {
   "cell_type": "markdown",
   "id": "c8b646de",
   "metadata": {},
   "source": [
    "# Ques 12) What is the percentage of variation you can observe in the ‘Income’ variable?"
   ]
  },
  {
   "cell_type": "code",
   "execution_count": 21,
   "id": "09343c60",
   "metadata": {},
   "outputs": [],
   "source": [
    "a_mean = loan_data['Income'].mean()"
   ]
  },
  {
   "cell_type": "code",
   "execution_count": 22,
   "id": "1dfcd373",
   "metadata": {},
   "outputs": [
    {
     "data": {
      "text/plain": [
       "73.7742"
      ]
     },
     "execution_count": 22,
     "metadata": {},
     "output_type": "execute_result"
    }
   ],
   "source": [
    "a_mean"
   ]
  },
  {
   "cell_type": "code",
   "execution_count": 23,
   "id": "16ee4d7e",
   "metadata": {},
   "outputs": [],
   "source": [
    "b_std = loan_data['Income'].std()"
   ]
  },
  {
   "cell_type": "code",
   "execution_count": 24,
   "id": "aa7c283f",
   "metadata": {},
   "outputs": [
    {
     "data": {
      "text/plain": [
       "46.033729321086334"
      ]
     },
     "execution_count": 24,
     "metadata": {},
     "output_type": "execute_result"
    }
   ],
   "source": [
    "b_std"
   ]
  },
  {
   "cell_type": "code",
   "execution_count": 25,
   "id": "e8685f9b",
   "metadata": {},
   "outputs": [],
   "source": [
    "percentage_variation = (b_std/a_mean)*100"
   ]
  },
  {
   "cell_type": "code",
   "execution_count": 26,
   "id": "1e9198a6",
   "metadata": {},
   "outputs": [
    {
     "data": {
      "text/plain": [
       "62.39814097758612"
      ]
     },
     "execution_count": 26,
     "metadata": {},
     "output_type": "execute_result"
    }
   ],
   "source": [
    "percentage_variation"
   ]
  },
  {
   "cell_type": "markdown",
   "id": "30f155fe",
   "metadata": {},
   "source": [
    "# Ques 13) The ‘Mortgage’ variable has a lot of zeroes. Impute with some business logical value that you feel fit for the data."
   ]
  },
  {
   "cell_type": "code",
   "execution_count": 39,
   "id": "3b0159ea",
   "metadata": {},
   "outputs": [
    {
     "data": {
      "text/plain": [
       "Mortgage\n",
       "0      3462\n",
       "98       17\n",
       "119      16\n",
       "89       16\n",
       "91       16\n",
       "       ... \n",
       "547       1\n",
       "458       1\n",
       "505       1\n",
       "361       1\n",
       "541       1\n",
       "Name: count, Length: 347, dtype: int64"
      ]
     },
     "execution_count": 39,
     "metadata": {},
     "output_type": "execute_result"
    }
   ],
   "source": [
    "loan_data[\"Mortgage\"].value_counts()"
   ]
  },
  {
   "cell_type": "code",
   "execution_count": 50,
   "id": "0ef02abb",
   "metadata": {},
   "outputs": [
    {
     "data": {
      "text/html": [
       "<div>\n",
       "<style scoped>\n",
       "    .dataframe tbody tr th:only-of-type {\n",
       "        vertical-align: middle;\n",
       "    }\n",
       "\n",
       "    .dataframe tbody tr th {\n",
       "        vertical-align: top;\n",
       "    }\n",
       "\n",
       "    .dataframe thead th {\n",
       "        text-align: right;\n",
       "    }\n",
       "</style>\n",
       "<table border=\"1\" class=\"dataframe\">\n",
       "  <thead>\n",
       "    <tr style=\"text-align: right;\">\n",
       "      <th></th>\n",
       "      <th>ID</th>\n",
       "      <th>Age</th>\n",
       "      <th>Experience</th>\n",
       "      <th>Income</th>\n",
       "      <th>ZIP Code</th>\n",
       "      <th>Family</th>\n",
       "      <th>CCAvg</th>\n",
       "      <th>Education</th>\n",
       "      <th>Mortgage</th>\n",
       "      <th>Personal Loan</th>\n",
       "      <th>Securities Account</th>\n",
       "      <th>CD Account</th>\n",
       "      <th>Online</th>\n",
       "      <th>CreditCard</th>\n",
       "    </tr>\n",
       "  </thead>\n",
       "  <tbody>\n",
       "    <tr>\n",
       "      <th>0</th>\n",
       "      <td>1</td>\n",
       "      <td>25</td>\n",
       "      <td>1</td>\n",
       "      <td>49</td>\n",
       "      <td>91107</td>\n",
       "      <td>4</td>\n",
       "      <td>1.6</td>\n",
       "      <td>1</td>\n",
       "      <td>56.4988</td>\n",
       "      <td>0</td>\n",
       "      <td>1</td>\n",
       "      <td>0</td>\n",
       "      <td>0</td>\n",
       "      <td>0</td>\n",
       "    </tr>\n",
       "    <tr>\n",
       "      <th>1</th>\n",
       "      <td>2</td>\n",
       "      <td>45</td>\n",
       "      <td>19</td>\n",
       "      <td>34</td>\n",
       "      <td>90089</td>\n",
       "      <td>3</td>\n",
       "      <td>1.5</td>\n",
       "      <td>1</td>\n",
       "      <td>56.4988</td>\n",
       "      <td>0</td>\n",
       "      <td>1</td>\n",
       "      <td>0</td>\n",
       "      <td>0</td>\n",
       "      <td>0</td>\n",
       "    </tr>\n",
       "    <tr>\n",
       "      <th>2</th>\n",
       "      <td>3</td>\n",
       "      <td>39</td>\n",
       "      <td>15</td>\n",
       "      <td>11</td>\n",
       "      <td>94720</td>\n",
       "      <td>1</td>\n",
       "      <td>1.0</td>\n",
       "      <td>1</td>\n",
       "      <td>56.4988</td>\n",
       "      <td>0</td>\n",
       "      <td>0</td>\n",
       "      <td>0</td>\n",
       "      <td>0</td>\n",
       "      <td>0</td>\n",
       "    </tr>\n",
       "    <tr>\n",
       "      <th>3</th>\n",
       "      <td>4</td>\n",
       "      <td>35</td>\n",
       "      <td>9</td>\n",
       "      <td>100</td>\n",
       "      <td>94112</td>\n",
       "      <td>1</td>\n",
       "      <td>2.7</td>\n",
       "      <td>2</td>\n",
       "      <td>56.4988</td>\n",
       "      <td>0</td>\n",
       "      <td>0</td>\n",
       "      <td>0</td>\n",
       "      <td>0</td>\n",
       "      <td>0</td>\n",
       "    </tr>\n",
       "    <tr>\n",
       "      <th>4</th>\n",
       "      <td>5</td>\n",
       "      <td>35</td>\n",
       "      <td>8</td>\n",
       "      <td>45</td>\n",
       "      <td>91330</td>\n",
       "      <td>4</td>\n",
       "      <td>1.0</td>\n",
       "      <td>2</td>\n",
       "      <td>56.4988</td>\n",
       "      <td>0</td>\n",
       "      <td>0</td>\n",
       "      <td>0</td>\n",
       "      <td>0</td>\n",
       "      <td>1</td>\n",
       "    </tr>\n",
       "    <tr>\n",
       "      <th>...</th>\n",
       "      <td>...</td>\n",
       "      <td>...</td>\n",
       "      <td>...</td>\n",
       "      <td>...</td>\n",
       "      <td>...</td>\n",
       "      <td>...</td>\n",
       "      <td>...</td>\n",
       "      <td>...</td>\n",
       "      <td>...</td>\n",
       "      <td>...</td>\n",
       "      <td>...</td>\n",
       "      <td>...</td>\n",
       "      <td>...</td>\n",
       "      <td>...</td>\n",
       "    </tr>\n",
       "    <tr>\n",
       "      <th>4995</th>\n",
       "      <td>4996</td>\n",
       "      <td>29</td>\n",
       "      <td>3</td>\n",
       "      <td>40</td>\n",
       "      <td>92697</td>\n",
       "      <td>1</td>\n",
       "      <td>1.9</td>\n",
       "      <td>3</td>\n",
       "      <td>56.4988</td>\n",
       "      <td>0</td>\n",
       "      <td>0</td>\n",
       "      <td>0</td>\n",
       "      <td>1</td>\n",
       "      <td>0</td>\n",
       "    </tr>\n",
       "    <tr>\n",
       "      <th>4996</th>\n",
       "      <td>4997</td>\n",
       "      <td>30</td>\n",
       "      <td>4</td>\n",
       "      <td>15</td>\n",
       "      <td>92037</td>\n",
       "      <td>4</td>\n",
       "      <td>0.4</td>\n",
       "      <td>1</td>\n",
       "      <td>85.0000</td>\n",
       "      <td>0</td>\n",
       "      <td>0</td>\n",
       "      <td>0</td>\n",
       "      <td>1</td>\n",
       "      <td>0</td>\n",
       "    </tr>\n",
       "    <tr>\n",
       "      <th>4997</th>\n",
       "      <td>4998</td>\n",
       "      <td>63</td>\n",
       "      <td>39</td>\n",
       "      <td>24</td>\n",
       "      <td>93023</td>\n",
       "      <td>2</td>\n",
       "      <td>0.3</td>\n",
       "      <td>3</td>\n",
       "      <td>56.4988</td>\n",
       "      <td>0</td>\n",
       "      <td>0</td>\n",
       "      <td>0</td>\n",
       "      <td>0</td>\n",
       "      <td>0</td>\n",
       "    </tr>\n",
       "    <tr>\n",
       "      <th>4998</th>\n",
       "      <td>4999</td>\n",
       "      <td>65</td>\n",
       "      <td>40</td>\n",
       "      <td>49</td>\n",
       "      <td>90034</td>\n",
       "      <td>3</td>\n",
       "      <td>0.5</td>\n",
       "      <td>2</td>\n",
       "      <td>56.4988</td>\n",
       "      <td>0</td>\n",
       "      <td>0</td>\n",
       "      <td>0</td>\n",
       "      <td>1</td>\n",
       "      <td>0</td>\n",
       "    </tr>\n",
       "    <tr>\n",
       "      <th>4999</th>\n",
       "      <td>5000</td>\n",
       "      <td>28</td>\n",
       "      <td>4</td>\n",
       "      <td>83</td>\n",
       "      <td>92612</td>\n",
       "      <td>3</td>\n",
       "      <td>0.8</td>\n",
       "      <td>1</td>\n",
       "      <td>56.4988</td>\n",
       "      <td>0</td>\n",
       "      <td>0</td>\n",
       "      <td>0</td>\n",
       "      <td>1</td>\n",
       "      <td>1</td>\n",
       "    </tr>\n",
       "  </tbody>\n",
       "</table>\n",
       "<p>5000 rows × 14 columns</p>\n",
       "</div>"
      ],
      "text/plain": [
       "        ID  Age  Experience  Income  ZIP Code  Family  CCAvg  Education  \\\n",
       "0        1   25           1      49     91107       4    1.6          1   \n",
       "1        2   45          19      34     90089       3    1.5          1   \n",
       "2        3   39          15      11     94720       1    1.0          1   \n",
       "3        4   35           9     100     94112       1    2.7          2   \n",
       "4        5   35           8      45     91330       4    1.0          2   \n",
       "...    ...  ...         ...     ...       ...     ...    ...        ...   \n",
       "4995  4996   29           3      40     92697       1    1.9          3   \n",
       "4996  4997   30           4      15     92037       4    0.4          1   \n",
       "4997  4998   63          39      24     93023       2    0.3          3   \n",
       "4998  4999   65          40      49     90034       3    0.5          2   \n",
       "4999  5000   28           4      83     92612       3    0.8          1   \n",
       "\n",
       "      Mortgage  Personal Loan  Securities Account  CD Account  Online  \\\n",
       "0      56.4988              0                   1           0       0   \n",
       "1      56.4988              0                   1           0       0   \n",
       "2      56.4988              0                   0           0       0   \n",
       "3      56.4988              0                   0           0       0   \n",
       "4      56.4988              0                   0           0       0   \n",
       "...        ...            ...                 ...         ...     ...   \n",
       "4995   56.4988              0                   0           0       1   \n",
       "4996   85.0000              0                   0           0       1   \n",
       "4997   56.4988              0                   0           0       0   \n",
       "4998   56.4988              0                   0           0       1   \n",
       "4999   56.4988              0                   0           0       1   \n",
       "\n",
       "      CreditCard  \n",
       "0              0  \n",
       "1              0  \n",
       "2              0  \n",
       "3              0  \n",
       "4              1  \n",
       "...          ...  \n",
       "4995           0  \n",
       "4996           0  \n",
       "4997           0  \n",
       "4998           0  \n",
       "4999           1  \n",
       "\n",
       "[5000 rows x 14 columns]"
      ]
     },
     "execution_count": 50,
     "metadata": {},
     "output_type": "execute_result"
    }
   ],
   "source": [
    "loan_data_mean = loan_data.copy()\n",
    "loan_data_mean[\"Mortgage\"].replace(0, loan_data_mean[\"Mortgage\"].mean(), inplace = True)\n",
    "loan_data_mean"
   ]
  },
  {
   "cell_type": "code",
   "execution_count": 46,
   "id": "3bde45ac",
   "metadata": {
    "scrolled": true
   },
   "outputs": [
    {
     "data": {
      "text/plain": [
       "95.61856912"
      ]
     },
     "execution_count": 46,
     "metadata": {},
     "output_type": "execute_result"
    }
   ],
   "source": [
    "loan_data_mean[\"Mortgage\"].mean()"
   ]
  },
  {
   "cell_type": "code",
   "execution_count": 47,
   "id": "d942bc52",
   "metadata": {},
   "outputs": [
    {
     "data": {
      "text/plain": [
       "<Axes: >"
      ]
     },
     "execution_count": 47,
     "metadata": {},
     "output_type": "execute_result"
    },
    {
     "data": {
      "image/png": "[encoded data removed]",
      "text/plain": [
       "<Figure size 640x480 with 1 Axes>"
      ]
     },
     "metadata": {},
     "output_type": "display_data"
    }
   ],
   "source": [
    "loan_data_mean[\"Mortgage\"].plot(kind='box')"
   ]
  },
  {
   "cell_type": "markdown",
   "id": "93a6d49a",
   "metadata": {},
   "source": [
    "# Ques 14) Plot a density curve of the CCAvg variable for the customers who possess credit cards and write an interpretation about its distribution."
   ]
  },
  {
   "cell_type": "code",
   "execution_count": 51,
   "id": "3667f361",
   "metadata": {},
   "outputs": [
    {
     "data": {
      "text/html": [
       "<div>\n",
       "<style scoped>\n",
       "    .dataframe tbody tr th:only-of-type {\n",
       "        vertical-align: middle;\n",
       "    }\n",
       "\n",
       "    .dataframe tbody tr th {\n",
       "        vertical-align: top;\n",
       "    }\n",
       "\n",
       "    .dataframe thead th {\n",
       "        text-align: right;\n",
       "    }\n",
       "</style>\n",
       "<table border=\"1\" class=\"dataframe\">\n",
       "  <thead>\n",
       "    <tr style=\"text-align: right;\">\n",
       "      <th></th>\n",
       "      <th>CreditCard</th>\n",
       "      <th>CCAvg</th>\n",
       "    </tr>\n",
       "  </thead>\n",
       "  <tbody>\n",
       "    <tr>\n",
       "      <th>4</th>\n",
       "      <td>1</td>\n",
       "      <td>1.0</td>\n",
       "    </tr>\n",
       "    <tr>\n",
       "      <th>7</th>\n",
       "      <td>1</td>\n",
       "      <td>0.3</td>\n",
       "    </tr>\n",
       "    <tr>\n",
       "      <th>15</th>\n",
       "      <td>1</td>\n",
       "      <td>1.5</td>\n",
       "    </tr>\n",
       "    <tr>\n",
       "      <th>19</th>\n",
       "      <td>1</td>\n",
       "      <td>0.5</td>\n",
       "    </tr>\n",
       "    <tr>\n",
       "      <th>24</th>\n",
       "      <td>1</td>\n",
       "      <td>3.9</td>\n",
       "    </tr>\n",
       "    <tr>\n",
       "      <th>...</th>\n",
       "      <td>...</td>\n",
       "      <td>...</td>\n",
       "    </tr>\n",
       "    <tr>\n",
       "      <th>4984</th>\n",
       "      <td>1</td>\n",
       "      <td>2.3</td>\n",
       "    </tr>\n",
       "    <tr>\n",
       "      <th>4988</th>\n",
       "      <td>1</td>\n",
       "      <td>2.5</td>\n",
       "    </tr>\n",
       "    <tr>\n",
       "      <th>4990</th>\n",
       "      <td>1</td>\n",
       "      <td>2.0</td>\n",
       "    </tr>\n",
       "    <tr>\n",
       "      <th>4991</th>\n",
       "      <td>1</td>\n",
       "      <td>1.9</td>\n",
       "    </tr>\n",
       "    <tr>\n",
       "      <th>4999</th>\n",
       "      <td>1</td>\n",
       "      <td>0.8</td>\n",
       "    </tr>\n",
       "  </tbody>\n",
       "</table>\n",
       "<p>1470 rows × 2 columns</p>\n",
       "</div>"
      ],
      "text/plain": [
       "      CreditCard  CCAvg\n",
       "4              1    1.0\n",
       "7              1    0.3\n",
       "15             1    1.5\n",
       "19             1    0.5\n",
       "24             1    3.9\n",
       "...          ...    ...\n",
       "4984           1    2.3\n",
       "4988           1    2.5\n",
       "4990           1    2.0\n",
       "4991           1    1.9\n",
       "4999           1    0.8\n",
       "\n",
       "[1470 rows x 2 columns]"
      ]
     },
     "execution_count": 51,
     "metadata": {},
     "output_type": "execute_result"
    }
   ],
   "source": [
    "loan_data.query(\"CreditCard ==1\")[[\"CreditCard\",\"CCAvg\"]]"
   ]
  },
  {
   "cell_type": "code",
   "execution_count": 52,
   "id": "6fb70fd3",
   "metadata": {},
   "outputs": [],
   "source": [
    "loan_data_ccavg = loan_data[loan_data[\"CreditCard\"] == 1]"
   ]
  },
  {
   "cell_type": "code",
   "execution_count": 53,
   "id": "c1b2d920",
   "metadata": {},
   "outputs": [
    {
     "data": {
      "text/html": [
       "<div>\n",
       "<style scoped>\n",
       "    .dataframe tbody tr th:only-of-type {\n",
       "        vertical-align: middle;\n",
       "    }\n",
       "\n",
       "    .dataframe tbody tr th {\n",
       "        vertical-align: top;\n",
       "    }\n",
       "\n",
       "    .dataframe thead th {\n",
       "        text-align: right;\n",
       "    }\n",
       "</style>\n",
       "<table border=\"1\" class=\"dataframe\">\n",
       "  <thead>\n",
       "    <tr style=\"text-align: right;\">\n",
       "      <th></th>\n",
       "      <th>CreditCard</th>\n",
       "      <th>CCAvg</th>\n",
       "    </tr>\n",
       "  </thead>\n",
       "  <tbody>\n",
       "    <tr>\n",
       "      <th>4</th>\n",
       "      <td>1</td>\n",
       "      <td>1.0</td>\n",
       "    </tr>\n",
       "    <tr>\n",
       "      <th>7</th>\n",
       "      <td>1</td>\n",
       "      <td>0.3</td>\n",
       "    </tr>\n",
       "    <tr>\n",
       "      <th>15</th>\n",
       "      <td>1</td>\n",
       "      <td>1.5</td>\n",
       "    </tr>\n",
       "    <tr>\n",
       "      <th>19</th>\n",
       "      <td>1</td>\n",
       "      <td>0.5</td>\n",
       "    </tr>\n",
       "    <tr>\n",
       "      <th>24</th>\n",
       "      <td>1</td>\n",
       "      <td>3.9</td>\n",
       "    </tr>\n",
       "    <tr>\n",
       "      <th>...</th>\n",
       "      <td>...</td>\n",
       "      <td>...</td>\n",
       "    </tr>\n",
       "    <tr>\n",
       "      <th>4984</th>\n",
       "      <td>1</td>\n",
       "      <td>2.3</td>\n",
       "    </tr>\n",
       "    <tr>\n",
       "      <th>4988</th>\n",
       "      <td>1</td>\n",
       "      <td>2.5</td>\n",
       "    </tr>\n",
       "    <tr>\n",
       "      <th>4990</th>\n",
       "      <td>1</td>\n",
       "      <td>2.0</td>\n",
       "    </tr>\n",
       "    <tr>\n",
       "      <th>4991</th>\n",
       "      <td>1</td>\n",
       "      <td>1.9</td>\n",
       "    </tr>\n",
       "    <tr>\n",
       "      <th>4999</th>\n",
       "      <td>1</td>\n",
       "      <td>0.8</td>\n",
       "    </tr>\n",
       "  </tbody>\n",
       "</table>\n",
       "<p>1470 rows × 2 columns</p>\n",
       "</div>"
      ],
      "text/plain": [
       "      CreditCard  CCAvg\n",
       "4              1    1.0\n",
       "7              1    0.3\n",
       "15             1    1.5\n",
       "19             1    0.5\n",
       "24             1    3.9\n",
       "...          ...    ...\n",
       "4984           1    2.3\n",
       "4988           1    2.5\n",
       "4990           1    2.0\n",
       "4991           1    1.9\n",
       "4999           1    0.8\n",
       "\n",
       "[1470 rows x 2 columns]"
      ]
     },
     "execution_count": 53,
     "metadata": {},
     "output_type": "execute_result"
    }
   ],
   "source": [
    "loan_data_ccavg[[\"CreditCard\",\"CCAvg\"]]"
   ]
  },
  {
   "cell_type": "code",
   "execution_count": 54,
   "id": "9dccc7ac",
   "metadata": {},
   "outputs": [
    {
     "name": "stderr",
     "output_type": "stream",
     "text": [
      "C:\\Users\\pusha\\anaconda3\\Lib\\site-packages\\seaborn\\axisgrid.py:118: UserWarning: The figure layout has changed to tight\n",
      "  self._figure.tight_layout(*args, **kwargs)\n"
     ]
    },
    {
     "data": {
      "text/plain": [
       "<seaborn.axisgrid.FacetGrid at 0x2a39eb9f090>"
      ]
     },
     "execution_count": 54,
     "metadata": {},
     "output_type": "execute_result"
    },
    {
     "data": {
      "image/png": "[encoded data removed]",
      "text/plain": [
       "<Figure size 500x500 with 1 Axes>"
      ]
     },
     "metadata": {},
     "output_type": "display_data"
    }
   ],
   "source": [
    "sns.displot(data = loan_data_ccavg, x = \"CCAvg\", kind = \"kde\")"
   ]
  },
  {
   "cell_type": "markdown",
   "id": "a846b919",
   "metadata": {},
   "source": [
    "# Ques 15) Do you see any outliers in the dataset? If yes, what plot you would think will be suitable to showcase to the stakeholders?"
   ]
  },
  {
   "cell_type": "code",
   "execution_count": 56,
   "id": "54f114ae",
   "metadata": {},
   "outputs": [
    {
     "data": {
      "text/plain": [
       "<Axes: xlabel='CCAvg'>"
      ]
     },
     "execution_count": 56,
     "metadata": {},
     "output_type": "execute_result"
    },
    {
     "data": {
      "image/png": "[encoded data removed]",
      "text/plain": [
       "<Figure size 640x480 with 1 Axes>"
      ]
     },
     "metadata": {},
     "output_type": "display_data"
    }
   ],
   "source": [
    "# Yes Outliers are there in data set & it is right skewed. We will plot boxplot to showacse teh outliers, \n",
    "# as the values outside whisker are the outlier values.\n",
    "sns.boxplot(data = loan_data, x = \"CCAvg\")"
   ]
  },
  {
   "cell_type": "markdown",
   "id": "5886b0b6",
   "metadata": {},
   "source": [
    "# Ques 16) Give us the decile values of the variable ‘Income’ in the dataset."
   ]
  },
  {
   "cell_type": "code",
   "execution_count": 57,
   "id": "a2dc606d",
   "metadata": {},
   "outputs": [
    {
     "data": {
      "text/plain": [
       "0        (42.0, 52.0]\n",
       "1        (33.0, 42.0]\n",
       "2       (7.999, 22.0]\n",
       "3       (88.3, 113.0]\n",
       "4        (42.0, 52.0]\n",
       "            ...      \n",
       "4995     (33.0, 42.0]\n",
       "4996    (7.999, 22.0]\n",
       "4997     (22.0, 33.0]\n",
       "4998     (42.0, 52.0]\n",
       "4999     (78.0, 88.3]\n",
       "Name: Income, Length: 5000, dtype: category\n",
       "Categories (10, interval[float64, right]): [(7.999, 22.0] < (22.0, 33.0] < (33.0, 42.0] < (42.0, 52.0] ... (78.0, 88.3] < (88.3, 113.0] < (113.0, 145.0] < (145.0, 224.0]]"
      ]
     },
     "execution_count": 57,
     "metadata": {},
     "output_type": "execute_result"
    }
   ],
   "source": [
    "pd.qcut(loan_data[\"Income\"], q=10)"
   ]
  },
  {
   "cell_type": "code",
   "execution_count": 58,
   "id": "a1071219",
   "metadata": {},
   "outputs": [
    {
     "data": {
      "text/html": [
       "<div>\n",
       "<style scoped>\n",
       "    .dataframe tbody tr th:only-of-type {\n",
       "        vertical-align: middle;\n",
       "    }\n",
       "\n",
       "    .dataframe tbody tr th {\n",
       "        vertical-align: top;\n",
       "    }\n",
       "\n",
       "    .dataframe thead th {\n",
       "        text-align: right;\n",
       "    }\n",
       "</style>\n",
       "<table border=\"1\" class=\"dataframe\">\n",
       "  <thead>\n",
       "    <tr style=\"text-align: right;\">\n",
       "      <th></th>\n",
       "      <th>ID</th>\n",
       "      <th>Age</th>\n",
       "      <th>Experience</th>\n",
       "      <th>Income</th>\n",
       "      <th>ZIP Code</th>\n",
       "      <th>Family</th>\n",
       "      <th>CCAvg</th>\n",
       "      <th>Education</th>\n",
       "      <th>Mortgage</th>\n",
       "      <th>Personal Loan</th>\n",
       "      <th>Securities Account</th>\n",
       "      <th>CD Account</th>\n",
       "      <th>Online</th>\n",
       "      <th>CreditCard</th>\n",
       "    </tr>\n",
       "  </thead>\n",
       "  <tbody>\n",
       "    <tr>\n",
       "      <th>0.1</th>\n",
       "      <td>500.9</td>\n",
       "      <td>30.0</td>\n",
       "      <td>4.0</td>\n",
       "      <td>22.0</td>\n",
       "      <td>90275.0</td>\n",
       "      <td>1.0</td>\n",
       "      <td>0.3</td>\n",
       "      <td>1.0</td>\n",
       "      <td>0.0</td>\n",
       "      <td>0.0</td>\n",
       "      <td>0.0</td>\n",
       "      <td>0.0</td>\n",
       "      <td>0.0</td>\n",
       "      <td>0.0</td>\n",
       "    </tr>\n",
       "    <tr>\n",
       "      <th>0.2</th>\n",
       "      <td>1000.8</td>\n",
       "      <td>34.0</td>\n",
       "      <td>8.0</td>\n",
       "      <td>33.0</td>\n",
       "      <td>91365.0</td>\n",
       "      <td>1.0</td>\n",
       "      <td>0.5</td>\n",
       "      <td>1.0</td>\n",
       "      <td>0.0</td>\n",
       "      <td>0.0</td>\n",
       "      <td>0.0</td>\n",
       "      <td>0.0</td>\n",
       "      <td>0.0</td>\n",
       "      <td>0.0</td>\n",
       "    </tr>\n",
       "    <tr>\n",
       "      <th>0.3</th>\n",
       "      <td>1500.7</td>\n",
       "      <td>38.0</td>\n",
       "      <td>12.0</td>\n",
       "      <td>42.0</td>\n",
       "      <td>92095.1</td>\n",
       "      <td>2.0</td>\n",
       "      <td>0.8</td>\n",
       "      <td>1.0</td>\n",
       "      <td>0.0</td>\n",
       "      <td>0.0</td>\n",
       "      <td>0.0</td>\n",
       "      <td>0.0</td>\n",
       "      <td>0.0</td>\n",
       "      <td>0.0</td>\n",
       "    </tr>\n",
       "    <tr>\n",
       "      <th>0.4</th>\n",
       "      <td>2000.6</td>\n",
       "      <td>42.0</td>\n",
       "      <td>17.0</td>\n",
       "      <td>52.0</td>\n",
       "      <td>92647.0</td>\n",
       "      <td>2.0</td>\n",
       "      <td>1.2</td>\n",
       "      <td>1.0</td>\n",
       "      <td>0.0</td>\n",
       "      <td>0.0</td>\n",
       "      <td>0.0</td>\n",
       "      <td>0.0</td>\n",
       "      <td>0.0</td>\n",
       "      <td>0.0</td>\n",
       "    </tr>\n",
       "    <tr>\n",
       "      <th>0.5</th>\n",
       "      <td>2500.5</td>\n",
       "      <td>45.0</td>\n",
       "      <td>20.0</td>\n",
       "      <td>64.0</td>\n",
       "      <td>93437.0</td>\n",
       "      <td>2.0</td>\n",
       "      <td>1.5</td>\n",
       "      <td>2.0</td>\n",
       "      <td>0.0</td>\n",
       "      <td>0.0</td>\n",
       "      <td>0.0</td>\n",
       "      <td>0.0</td>\n",
       "      <td>1.0</td>\n",
       "      <td>0.0</td>\n",
       "    </tr>\n",
       "    <tr>\n",
       "      <th>0.6</th>\n",
       "      <td>3000.4</td>\n",
       "      <td>50.0</td>\n",
       "      <td>24.0</td>\n",
       "      <td>78.0</td>\n",
       "      <td>94111.0</td>\n",
       "      <td>3.0</td>\n",
       "      <td>1.9</td>\n",
       "      <td>2.0</td>\n",
       "      <td>0.0</td>\n",
       "      <td>0.0</td>\n",
       "      <td>0.0</td>\n",
       "      <td>0.0</td>\n",
       "      <td>1.0</td>\n",
       "      <td>0.0</td>\n",
       "    </tr>\n",
       "    <tr>\n",
       "      <th>0.7</th>\n",
       "      <td>3500.3</td>\n",
       "      <td>53.0</td>\n",
       "      <td>28.0</td>\n",
       "      <td>88.3</td>\n",
       "      <td>94534.6</td>\n",
       "      <td>3.0</td>\n",
       "      <td>2.3</td>\n",
       "      <td>3.0</td>\n",
       "      <td>78.0</td>\n",
       "      <td>0.0</td>\n",
       "      <td>0.0</td>\n",
       "      <td>0.0</td>\n",
       "      <td>1.0</td>\n",
       "      <td>0.0</td>\n",
       "    </tr>\n",
       "    <tr>\n",
       "      <th>0.8</th>\n",
       "      <td>4000.2</td>\n",
       "      <td>57.0</td>\n",
       "      <td>32.0</td>\n",
       "      <td>113.0</td>\n",
       "      <td>94720.0</td>\n",
       "      <td>4.0</td>\n",
       "      <td>2.8</td>\n",
       "      <td>3.0</td>\n",
       "      <td>123.0</td>\n",
       "      <td>0.0</td>\n",
       "      <td>0.0</td>\n",
       "      <td>0.0</td>\n",
       "      <td>1.0</td>\n",
       "      <td>1.0</td>\n",
       "    </tr>\n",
       "    <tr>\n",
       "      <th>0.9</th>\n",
       "      <td>4500.1</td>\n",
       "      <td>61.0</td>\n",
       "      <td>36.0</td>\n",
       "      <td>145.0</td>\n",
       "      <td>95138.0</td>\n",
       "      <td>4.0</td>\n",
       "      <td>4.3</td>\n",
       "      <td>3.0</td>\n",
       "      <td>200.0</td>\n",
       "      <td>0.0</td>\n",
       "      <td>1.0</td>\n",
       "      <td>0.0</td>\n",
       "      <td>1.0</td>\n",
       "      <td>1.0</td>\n",
       "    </tr>\n",
       "  </tbody>\n",
       "</table>\n",
       "</div>"
      ],
      "text/plain": [
       "         ID   Age  Experience  Income  ZIP Code  Family  CCAvg  Education  \\\n",
       "0.1   500.9  30.0         4.0    22.0   90275.0     1.0    0.3        1.0   \n",
       "0.2  1000.8  34.0         8.0    33.0   91365.0     1.0    0.5        1.0   \n",
       "0.3  1500.7  38.0        12.0    42.0   92095.1     2.0    0.8        1.0   \n",
       "0.4  2000.6  42.0        17.0    52.0   92647.0     2.0    1.2        1.0   \n",
       "0.5  2500.5  45.0        20.0    64.0   93437.0     2.0    1.5        2.0   \n",
       "0.6  3000.4  50.0        24.0    78.0   94111.0     3.0    1.9        2.0   \n",
       "0.7  3500.3  53.0        28.0    88.3   94534.6     3.0    2.3        3.0   \n",
       "0.8  4000.2  57.0        32.0   113.0   94720.0     4.0    2.8        3.0   \n",
       "0.9  4500.1  61.0        36.0   145.0   95138.0     4.0    4.3        3.0   \n",
       "\n",
       "     Mortgage  Personal Loan  Securities Account  CD Account  Online  \\\n",
       "0.1       0.0            0.0                 0.0         0.0     0.0   \n",
       "0.2       0.0            0.0                 0.0         0.0     0.0   \n",
       "0.3       0.0            0.0                 0.0         0.0     0.0   \n",
       "0.4       0.0            0.0                 0.0         0.0     0.0   \n",
       "0.5       0.0            0.0                 0.0         0.0     1.0   \n",
       "0.6       0.0            0.0                 0.0         0.0     1.0   \n",
       "0.7      78.0            0.0                 0.0         0.0     1.0   \n",
       "0.8     123.0            0.0                 0.0         0.0     1.0   \n",
       "0.9     200.0            0.0                 1.0         0.0     1.0   \n",
       "\n",
       "     CreditCard  \n",
       "0.1         0.0  \n",
       "0.2         0.0  \n",
       "0.3         0.0  \n",
       "0.4         0.0  \n",
       "0.5         0.0  \n",
       "0.6         0.0  \n",
       "0.7         0.0  \n",
       "0.8         1.0  \n",
       "0.9         1.0  "
      ]
     },
     "execution_count": 58,
     "metadata": {},
     "output_type": "execute_result"
    }
   ],
   "source": [
    "loan_data.quantile([0.10,0.20,0.30,0.40,0.50,0.60,0.70,0.80,0.90])"
   ]
  },
  {
   "cell_type": "markdown",
   "id": "7eff8e47",
   "metadata": {},
   "source": [
    "# Ques 17) Give the IQR of all the variables which are quantitative and continuous."
   ]
  },
  {
   "cell_type": "markdown",
   "id": "413177a2",
   "metadata": {},
   "source": [
    "# IQR = Q3 - Q1"
   ]
  },
  {
   "cell_type": "code",
   "execution_count": 60,
   "id": "c8dacb97",
   "metadata": {},
   "outputs": [],
   "source": [
    "loan_data_new = loan_data.select_dtypes(np.number)"
   ]
  },
  {
   "cell_type": "code",
   "execution_count": 61,
   "id": "dc7c9522",
   "metadata": {},
   "outputs": [
    {
     "data": {
      "text/plain": [
       "ID                    2499.5\n",
       "Age                     20.0\n",
       "Experience              20.0\n",
       "Income                  59.0\n",
       "ZIP Code              2697.0\n",
       "Family                   2.0\n",
       "CCAvg                    1.8\n",
       "Education                2.0\n",
       "Mortgage               101.0\n",
       "Personal Loan            0.0\n",
       "Securities Account       0.0\n",
       "CD Account               0.0\n",
       "Online                   1.0\n",
       "CreditCard               1.0\n",
       "dtype: float64"
      ]
     },
     "execution_count": 61,
     "metadata": {},
     "output_type": "execute_result"
    }
   ],
   "source": [
    "loan_data_new.quantile(0.75)-loan_data.quantile(0.25)"
   ]
  },
  {
   "cell_type": "markdown",
   "id": "e11b32a2",
   "metadata": {},
   "source": [
    "# Ques 18) Do the higher-income holders spend more on credit cards?"
   ]
  },
  {
   "cell_type": "code",
   "execution_count": 62,
   "id": "6403fcc8",
   "metadata": {},
   "outputs": [],
   "source": [
    "X = loan_data[[\"Income\",\"CCAvg\"]]"
   ]
  },
  {
   "cell_type": "code",
   "execution_count": 63,
   "id": "0cdbc4bf",
   "metadata": {},
   "outputs": [
    {
     "data": {
      "text/html": [
       "<div>\n",
       "<style scoped>\n",
       "    .dataframe tbody tr th:only-of-type {\n",
       "        vertical-align: middle;\n",
       "    }\n",
       "\n",
       "    .dataframe tbody tr th {\n",
       "        vertical-align: top;\n",
       "    }\n",
       "\n",
       "    .dataframe thead th {\n",
       "        text-align: right;\n",
       "    }\n",
       "</style>\n",
       "<table border=\"1\" class=\"dataframe\">\n",
       "  <thead>\n",
       "    <tr style=\"text-align: right;\">\n",
       "      <th></th>\n",
       "      <th>Income</th>\n",
       "      <th>CCAvg</th>\n",
       "    </tr>\n",
       "  </thead>\n",
       "  <tbody>\n",
       "    <tr>\n",
       "      <th>0</th>\n",
       "      <td>49</td>\n",
       "      <td>1.6</td>\n",
       "    </tr>\n",
       "    <tr>\n",
       "      <th>1</th>\n",
       "      <td>34</td>\n",
       "      <td>1.5</td>\n",
       "    </tr>\n",
       "    <tr>\n",
       "      <th>2</th>\n",
       "      <td>11</td>\n",
       "      <td>1.0</td>\n",
       "    </tr>\n",
       "    <tr>\n",
       "      <th>3</th>\n",
       "      <td>100</td>\n",
       "      <td>2.7</td>\n",
       "    </tr>\n",
       "    <tr>\n",
       "      <th>4</th>\n",
       "      <td>45</td>\n",
       "      <td>1.0</td>\n",
       "    </tr>\n",
       "    <tr>\n",
       "      <th>...</th>\n",
       "      <td>...</td>\n",
       "      <td>...</td>\n",
       "    </tr>\n",
       "    <tr>\n",
       "      <th>4995</th>\n",
       "      <td>40</td>\n",
       "      <td>1.9</td>\n",
       "    </tr>\n",
       "    <tr>\n",
       "      <th>4996</th>\n",
       "      <td>15</td>\n",
       "      <td>0.4</td>\n",
       "    </tr>\n",
       "    <tr>\n",
       "      <th>4997</th>\n",
       "      <td>24</td>\n",
       "      <td>0.3</td>\n",
       "    </tr>\n",
       "    <tr>\n",
       "      <th>4998</th>\n",
       "      <td>49</td>\n",
       "      <td>0.5</td>\n",
       "    </tr>\n",
       "    <tr>\n",
       "      <th>4999</th>\n",
       "      <td>83</td>\n",
       "      <td>0.8</td>\n",
       "    </tr>\n",
       "  </tbody>\n",
       "</table>\n",
       "<p>5000 rows × 2 columns</p>\n",
       "</div>"
      ],
      "text/plain": [
       "      Income  CCAvg\n",
       "0         49    1.6\n",
       "1         34    1.5\n",
       "2         11    1.0\n",
       "3        100    2.7\n",
       "4         45    1.0\n",
       "...      ...    ...\n",
       "4995      40    1.9\n",
       "4996      15    0.4\n",
       "4997      24    0.3\n",
       "4998      49    0.5\n",
       "4999      83    0.8\n",
       "\n",
       "[5000 rows x 2 columns]"
      ]
     },
     "execution_count": 63,
     "metadata": {},
     "output_type": "execute_result"
    }
   ],
   "source": [
    "X"
   ]
  },
  {
   "cell_type": "code",
   "execution_count": 64,
   "id": "06540037",
   "metadata": {},
   "outputs": [
    {
     "name": "stderr",
     "output_type": "stream",
     "text": [
      "C:\\Users\\pusha\\anaconda3\\Lib\\site-packages\\seaborn\\axisgrid.py:118: UserWarning: The figure layout has changed to tight\n",
      "  self._figure.tight_layout(*args, **kwargs)\n"
     ]
    },
    {
     "data": {
      "text/plain": [
       "<seaborn.axisgrid.FacetGrid at 0x2a39c5eae50>"
      ]
     },
     "execution_count": 64,
     "metadata": {},
     "output_type": "execute_result"
    },
    {
     "data": {
      "image/png": "[encoded data removed]",
      "text/plain": [
       "<Figure size 500x500 with 1 Axes>"
      ]
     },
     "metadata": {},
     "output_type": "display_data"
    }
   ],
   "source": [
    "sns.catplot(data = X, x = \"Income\", y = \"CCAvg\", kind = \"bar\")"
   ]
  },
  {
   "cell_type": "markdown",
   "id": "e0ee3d07",
   "metadata": {},
   "source": [
    "# Yes from above graph it clears that higher income holders spend more on credit cards."
   ]
  },
  {
   "cell_type": "markdown",
   "id": "3b970ea3",
   "metadata": {},
   "source": [
    "# Ques 19) How many customers use online banking? Do customers using bank internet facilities have higher incomes?"
   ]
  },
  {
   "cell_type": "code",
   "execution_count": 65,
   "id": "a8d8dda7",
   "metadata": {},
   "outputs": [
    {
     "data": {
      "text/plain": [
       "Online\n",
       "1    2984\n",
       "0    2016\n",
       "Name: count, dtype: int64"
      ]
     },
     "execution_count": 65,
     "metadata": {},
     "output_type": "execute_result"
    }
   ],
   "source": [
    "loan_data[\"Online\"].value_counts()"
   ]
  },
  {
   "cell_type": "markdown",
   "id": "d9aa7db9",
   "metadata": {},
   "source": [
    "- 2984 customers are using Online banking"
   ]
  },
  {
   "cell_type": "code",
   "execution_count": 69,
   "id": "4f2f50dd",
   "metadata": {},
   "outputs": [],
   "source": [
    "loan_data_online = loan_data[loan_data[\"Online\"] == 1]"
   ]
  },
  {
   "cell_type": "code",
   "execution_count": 71,
   "id": "59fb04d5",
   "metadata": {},
   "outputs": [],
   "source": [
    "Y = loan_data_online[[\"Online\",\"Income\"]]"
   ]
  },
  {
   "cell_type": "code",
   "execution_count": 72,
   "id": "1a8a71e5",
   "metadata": {},
   "outputs": [
    {
     "data": {
      "text/html": [
       "<div>\n",
       "<style scoped>\n",
       "    .dataframe tbody tr th:only-of-type {\n",
       "        vertical-align: middle;\n",
       "    }\n",
       "\n",
       "    .dataframe tbody tr th {\n",
       "        vertical-align: top;\n",
       "    }\n",
       "\n",
       "    .dataframe thead th {\n",
       "        text-align: right;\n",
       "    }\n",
       "</style>\n",
       "<table border=\"1\" class=\"dataframe\">\n",
       "  <thead>\n",
       "    <tr style=\"text-align: right;\">\n",
       "      <th></th>\n",
       "      <th>Online</th>\n",
       "      <th>Income</th>\n",
       "    </tr>\n",
       "  </thead>\n",
       "  <tbody>\n",
       "    <tr>\n",
       "      <th>5</th>\n",
       "      <td>1</td>\n",
       "      <td>29</td>\n",
       "    </tr>\n",
       "    <tr>\n",
       "      <th>6</th>\n",
       "      <td>1</td>\n",
       "      <td>72</td>\n",
       "    </tr>\n",
       "    <tr>\n",
       "      <th>8</th>\n",
       "      <td>1</td>\n",
       "      <td>81</td>\n",
       "    </tr>\n",
       "    <tr>\n",
       "      <th>11</th>\n",
       "      <td>1</td>\n",
       "      <td>45</td>\n",
       "    </tr>\n",
       "    <tr>\n",
       "      <th>13</th>\n",
       "      <td>1</td>\n",
       "      <td>40</td>\n",
       "    </tr>\n",
       "    <tr>\n",
       "      <th>...</th>\n",
       "      <td>...</td>\n",
       "      <td>...</td>\n",
       "    </tr>\n",
       "    <tr>\n",
       "      <th>4994</th>\n",
       "      <td>1</td>\n",
       "      <td>75</td>\n",
       "    </tr>\n",
       "    <tr>\n",
       "      <th>4995</th>\n",
       "      <td>1</td>\n",
       "      <td>40</td>\n",
       "    </tr>\n",
       "    <tr>\n",
       "      <th>4996</th>\n",
       "      <td>1</td>\n",
       "      <td>15</td>\n",
       "    </tr>\n",
       "    <tr>\n",
       "      <th>4998</th>\n",
       "      <td>1</td>\n",
       "      <td>49</td>\n",
       "    </tr>\n",
       "    <tr>\n",
       "      <th>4999</th>\n",
       "      <td>1</td>\n",
       "      <td>83</td>\n",
       "    </tr>\n",
       "  </tbody>\n",
       "</table>\n",
       "<p>2984 rows × 2 columns</p>\n",
       "</div>"
      ],
      "text/plain": [
       "      Online  Income\n",
       "5          1      29\n",
       "6          1      72\n",
       "8          1      81\n",
       "11         1      45\n",
       "13         1      40\n",
       "...      ...     ...\n",
       "4994       1      75\n",
       "4995       1      40\n",
       "4996       1      15\n",
       "4998       1      49\n",
       "4999       1      83\n",
       "\n",
       "[2984 rows x 2 columns]"
      ]
     },
     "execution_count": 72,
     "metadata": {},
     "output_type": "execute_result"
    }
   ],
   "source": [
    "Y"
   ]
  },
  {
   "cell_type": "code",
   "execution_count": 74,
   "id": "c3b3521a",
   "metadata": {},
   "outputs": [
    {
     "name": "stderr",
     "output_type": "stream",
     "text": [
      "C:\\Users\\pusha\\anaconda3\\Lib\\site-packages\\seaborn\\axisgrid.py:118: UserWarning: The figure layout has changed to tight\n",
      "  self._figure.tight_layout(*args, **kwargs)\n"
     ]
    },
    {
     "data": {
      "text/plain": [
       "<seaborn.axisgrid.FacetGrid at 0x2a39e9da610>"
      ]
     },
     "execution_count": 74,
     "metadata": {},
     "output_type": "execute_result"
    },
    {
     "data": {
      "image/png": "[encoded data removed]",
      "text/plain": [
       "<Figure size 500x500 with 1 Axes>"
      ]
     },
     "metadata": {},
     "output_type": "display_data"
    }
   ],
   "source": [
    "sns.catplot(data = loan_data, x = \"Online\", y = \"Income\", kind = \"bar\")"
   ]
  },
  {
   "cell_type": "markdown",
   "id": "4f2966ed",
   "metadata": {},
   "source": [
    "- From Above chart it clarifies that customer using online banking irrespective of income."
   ]
  },
  {
   "cell_type": "code",
   "execution_count": 75,
   "id": "ec76f223",
   "metadata": {},
   "outputs": [
    {
     "data": {
      "text/plain": [
       "74.31166219839142"
      ]
     },
     "execution_count": 75,
     "metadata": {},
     "output_type": "execute_result"
    }
   ],
   "source": [
    "loan_data_online[\"Income\"].mean()"
   ]
  },
  {
   "cell_type": "code",
   "execution_count": 76,
   "id": "42ccb14f",
   "metadata": {},
   "outputs": [
    {
     "data": {
      "text/plain": [
       "73.7742"
      ]
     },
     "execution_count": 76,
     "metadata": {},
     "output_type": "execute_result"
    }
   ],
   "source": [
    "loan_data[\"Income\"].mean()"
   ]
  },
  {
   "cell_type": "markdown",
   "id": "88693620",
   "metadata": {},
   "source": [
    "# Ques 20) Using the z-score of the income variable, find out the number of observations outside the +-3σ."
   ]
  },
  {
   "cell_type": "code",
   "execution_count": 77,
   "id": "0919133a",
   "metadata": {},
   "outputs": [],
   "source": [
    "z = stats.zscore(loan_data[\"Income\"])"
   ]
  },
  {
   "cell_type": "code",
   "execution_count": 78,
   "id": "65f59471",
   "metadata": {},
   "outputs": [
    {
     "data": {
      "text/plain": [
       "0      -0.538229\n",
       "1      -0.864109\n",
       "2      -1.363793\n",
       "3       0.569765\n",
       "4      -0.625130\n",
       "          ...   \n",
       "4995   -0.733757\n",
       "4996   -1.276892\n",
       "4997   -1.081363\n",
       "4998   -0.538229\n",
       "4999    0.200434\n",
       "Name: Income, Length: 5000, dtype: float64"
      ]
     },
     "execution_count": 78,
     "metadata": {},
     "output_type": "execute_result"
    }
   ],
   "source": [
    "z"
   ]
  },
  {
   "cell_type": "code",
   "execution_count": 79,
   "id": "baaac3a4",
   "metadata": {},
   "outputs": [
    {
     "data": {
      "text/plain": [
       "Income\n",
       "-0.646856    85\n",
       "-0.777208    84\n",
       " 0.156983    83\n",
       "-0.712032    82\n",
       "-0.755483    81\n",
       "             ..\n",
       " 2.785754     2\n",
       " 2.807479     2\n",
       " 2.503324     2\n",
       " 3.263712     1\n",
       " 3.133360     1\n",
       "Name: count, Length: 162, dtype: int64"
      ]
     },
     "execution_count": 79,
     "metadata": {},
     "output_type": "execute_result"
    }
   ],
   "source": [
    "z.value_counts()"
   ]
  },
  {
   "cell_type": "code",
   "execution_count": 81,
   "id": "ffd702a1",
   "metadata": {},
   "outputs": [
    {
     "name": "stdout",
     "output_type": "stream",
     "text": [
      "2\n",
      "0\n"
     ]
    }
   ],
   "source": [
    "threshold_max = 3\n",
    "threshold_min =-3\n",
    "\n",
    "outlier_max = []\n",
    "outlier_min = []\n",
    "\n",
    "for i in z:\n",
    "    if i > threshold_max:\n",
    "        outlier_max.append(i)\n",
    "    elif i < threshold_min:\n",
    "        outlier_min.append(i)\n",
    "        \n",
    "print(len(outlier_max))\n",
    "print(len(outlier_min))"
   ]
  },
  {
   "cell_type": "code",
   "execution_count": 82,
   "id": "62d6b02c",
   "metadata": {},
   "outputs": [
    {
     "data": {
      "text/plain": [
       "<Axes: >"
      ]
     },
     "execution_count": 82,
     "metadata": {},
     "output_type": "execute_result"
    },
    {
     "data": {
      "image/png": "[encoded data removed]",
      "text/plain": [
       "<Figure size 640x480 with 1 Axes>"
      ]
     },
     "metadata": {},
     "output_type": "display_data"
    }
   ],
   "source": [
    "sns.boxplot(data=z)"
   ]
  },
  {
   "cell_type": "markdown",
   "id": "94e0a85d",
   "metadata": {},
   "source": [
    "- From above we came to know that ther are outliers only 2 values which are > z-score (+3) \n",
    "  & 0 outlier value which are below z-score (-3)\n",
    "- The boxplot is also tells teh same"
   ]
  },
  {
   "cell_type": "code",
   "execution_count": 86,
   "id": "03c82772",
   "metadata": {},
   "outputs": [
    {
     "data": {
      "text/plain": [
       "73.7742"
      ]
     },
     "execution_count": 86,
     "metadata": {},
     "output_type": "execute_result"
    }
   ],
   "source": [
    "loan_data[\"Income\"].mean()"
   ]
  },
  {
   "cell_type": "code",
   "execution_count": 87,
   "id": "04074be6",
   "metadata": {},
   "outputs": [
    {
     "data": {
      "text/plain": [
       "46.033729321086334"
      ]
     },
     "execution_count": 87,
     "metadata": {},
     "output_type": "execute_result"
    }
   ],
   "source": [
    "loan_data[\"Income\"].std()"
   ]
  },
  {
   "cell_type": "code",
   "execution_count": null,
   "id": "2723e1e1",
   "metadata": {},
   "outputs": [],
   "source": []
  },
  {
   "cell_type": "code",
   "execution_count": null,
   "id": "7ef3618a",
   "metadata": {},
   "outputs": [],
   "source": []
  }
 ],
 "metadata": {
  "kernelspec": {
   "display_name": "Python 3 (ipykernel)",
   "language": "python",
   "name": "python3"
  },
  "language_info": {
   "codemirror_mode": {
    "name": "ipython",
    "version": 3
   },
   "file_extension": ".py",
   "mimetype": "text/x-python",
   "name": "python",
   "nbconvert_exporter": "python",
   "pygments_lexer": "ipython3",
   "version": "3.11.5"
  }
 },
 "nbformat": 4,
 "nbformat_minor": 5
}
